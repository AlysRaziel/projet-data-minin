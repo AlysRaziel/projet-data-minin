{
 "cells": [
  {
   "cell_type": "code",
   "execution_count": 26,
   "id": "bc764967-d66d-4693-b625-11c87508878a",
   "metadata": {
    "tags": []
   },
   "outputs": [],
   "source": [
    "import pandas as pd\n",
    "import numpy as np"
   ]
  },
  {
   "cell_type": "code",
   "execution_count": 27,
   "id": "56f53ec5-8ed4-404f-bef2-72067714a870",
   "metadata": {
    "tags": []
   },
   "outputs": [],
   "source": [
    "life = pd.read_csv(\"Life-Expectancy-Data-Updated.csv\")"
   ]
  },
  {
   "cell_type": "code",
   "execution_count": 28,
   "id": "e9c9580e-3861-4779-8dc0-6aa4453fecfa",
   "metadata": {
    "tags": []
   },
   "outputs": [
    {
     "data": {
      "text/html": [
       "<div>\n",
       "<style scoped>\n",
       "    .dataframe tbody tr th:only-of-type {\n",
       "        vertical-align: middle;\n",
       "    }\n",
       "\n",
       "    .dataframe tbody tr th {\n",
       "        vertical-align: top;\n",
       "    }\n",
       "\n",
       "    .dataframe thead th {\n",
       "        text-align: right;\n",
       "    }\n",
       "</style>\n",
       "<table border=\"1\" class=\"dataframe\">\n",
       "  <thead>\n",
       "    <tr style=\"text-align: right;\">\n",
       "      <th></th>\n",
       "      <th>Country</th>\n",
       "      <th>Region</th>\n",
       "      <th>Year</th>\n",
       "      <th>Infant_deaths</th>\n",
       "      <th>Under_five_deaths</th>\n",
       "      <th>Adult_mortality</th>\n",
       "      <th>Alcohol_consumption</th>\n",
       "      <th>Hepatitis_B</th>\n",
       "      <th>Measles</th>\n",
       "      <th>BMI</th>\n",
       "      <th>...</th>\n",
       "      <th>Diphtheria</th>\n",
       "      <th>Incidents_HIV</th>\n",
       "      <th>GDP_per_capita</th>\n",
       "      <th>Population_mln</th>\n",
       "      <th>Thinness_ten_nineteen_years</th>\n",
       "      <th>Thinness_five_nine_years</th>\n",
       "      <th>Schooling</th>\n",
       "      <th>Economy_status_Developed</th>\n",
       "      <th>Economy_status_Developing</th>\n",
       "      <th>Life_expectancy</th>\n",
       "    </tr>\n",
       "  </thead>\n",
       "  <tbody>\n",
       "    <tr>\n",
       "      <th>0</th>\n",
       "      <td>Turkiye</td>\n",
       "      <td>Middle East</td>\n",
       "      <td>2015</td>\n",
       "      <td>11.1</td>\n",
       "      <td>13.0</td>\n",
       "      <td>105.8240</td>\n",
       "      <td>1.32</td>\n",
       "      <td>97</td>\n",
       "      <td>65</td>\n",
       "      <td>27.8</td>\n",
       "      <td>...</td>\n",
       "      <td>97</td>\n",
       "      <td>0.08</td>\n",
       "      <td>11006</td>\n",
       "      <td>78.53</td>\n",
       "      <td>4.9</td>\n",
       "      <td>4.8</td>\n",
       "      <td>7.8</td>\n",
       "      <td>0</td>\n",
       "      <td>1</td>\n",
       "      <td>76.5</td>\n",
       "    </tr>\n",
       "    <tr>\n",
       "      <th>1</th>\n",
       "      <td>Spain</td>\n",
       "      <td>European Union</td>\n",
       "      <td>2015</td>\n",
       "      <td>2.7</td>\n",
       "      <td>3.3</td>\n",
       "      <td>57.9025</td>\n",
       "      <td>10.35</td>\n",
       "      <td>97</td>\n",
       "      <td>94</td>\n",
       "      <td>26.0</td>\n",
       "      <td>...</td>\n",
       "      <td>97</td>\n",
       "      <td>0.09</td>\n",
       "      <td>25742</td>\n",
       "      <td>46.44</td>\n",
       "      <td>0.6</td>\n",
       "      <td>0.5</td>\n",
       "      <td>9.7</td>\n",
       "      <td>1</td>\n",
       "      <td>0</td>\n",
       "      <td>82.8</td>\n",
       "    </tr>\n",
       "    <tr>\n",
       "      <th>2</th>\n",
       "      <td>India</td>\n",
       "      <td>Asia</td>\n",
       "      <td>2007</td>\n",
       "      <td>51.5</td>\n",
       "      <td>67.9</td>\n",
       "      <td>201.0765</td>\n",
       "      <td>1.57</td>\n",
       "      <td>60</td>\n",
       "      <td>35</td>\n",
       "      <td>21.2</td>\n",
       "      <td>...</td>\n",
       "      <td>64</td>\n",
       "      <td>0.13</td>\n",
       "      <td>1076</td>\n",
       "      <td>1183.21</td>\n",
       "      <td>27.1</td>\n",
       "      <td>28.0</td>\n",
       "      <td>5.0</td>\n",
       "      <td>0</td>\n",
       "      <td>1</td>\n",
       "      <td>65.4</td>\n",
       "    </tr>\n",
       "    <tr>\n",
       "      <th>3</th>\n",
       "      <td>Guyana</td>\n",
       "      <td>South America</td>\n",
       "      <td>2006</td>\n",
       "      <td>32.8</td>\n",
       "      <td>40.5</td>\n",
       "      <td>222.1965</td>\n",
       "      <td>5.68</td>\n",
       "      <td>93</td>\n",
       "      <td>74</td>\n",
       "      <td>25.3</td>\n",
       "      <td>...</td>\n",
       "      <td>93</td>\n",
       "      <td>0.79</td>\n",
       "      <td>4146</td>\n",
       "      <td>0.75</td>\n",
       "      <td>5.7</td>\n",
       "      <td>5.5</td>\n",
       "      <td>7.9</td>\n",
       "      <td>0</td>\n",
       "      <td>1</td>\n",
       "      <td>67.0</td>\n",
       "    </tr>\n",
       "    <tr>\n",
       "      <th>4</th>\n",
       "      <td>Israel</td>\n",
       "      <td>Middle East</td>\n",
       "      <td>2012</td>\n",
       "      <td>3.4</td>\n",
       "      <td>4.3</td>\n",
       "      <td>57.9510</td>\n",
       "      <td>2.89</td>\n",
       "      <td>97</td>\n",
       "      <td>89</td>\n",
       "      <td>27.0</td>\n",
       "      <td>...</td>\n",
       "      <td>94</td>\n",
       "      <td>0.08</td>\n",
       "      <td>33995</td>\n",
       "      <td>7.91</td>\n",
       "      <td>1.2</td>\n",
       "      <td>1.1</td>\n",
       "      <td>12.8</td>\n",
       "      <td>1</td>\n",
       "      <td>0</td>\n",
       "      <td>81.7</td>\n",
       "    </tr>\n",
       "  </tbody>\n",
       "</table>\n",
       "<p>5 rows × 21 columns</p>\n",
       "</div>"
      ],
      "text/plain": [
       "   Country          Region  Year  Infant_deaths  Under_five_deaths   \n",
       "0  Turkiye     Middle East  2015           11.1               13.0  \\\n",
       "1    Spain  European Union  2015            2.7                3.3   \n",
       "2    India            Asia  2007           51.5               67.9   \n",
       "3   Guyana   South America  2006           32.8               40.5   \n",
       "4   Israel     Middle East  2012            3.4                4.3   \n",
       "\n",
       "   Adult_mortality  Alcohol_consumption  Hepatitis_B  Measles   BMI  ...   \n",
       "0         105.8240                 1.32           97       65  27.8  ...  \\\n",
       "1          57.9025                10.35           97       94  26.0  ...   \n",
       "2         201.0765                 1.57           60       35  21.2  ...   \n",
       "3         222.1965                 5.68           93       74  25.3  ...   \n",
       "4          57.9510                 2.89           97       89  27.0  ...   \n",
       "\n",
       "   Diphtheria  Incidents_HIV  GDP_per_capita  Population_mln   \n",
       "0          97           0.08           11006           78.53  \\\n",
       "1          97           0.09           25742           46.44   \n",
       "2          64           0.13            1076         1183.21   \n",
       "3          93           0.79            4146            0.75   \n",
       "4          94           0.08           33995            7.91   \n",
       "\n",
       "   Thinness_ten_nineteen_years  Thinness_five_nine_years  Schooling   \n",
       "0                          4.9                       4.8        7.8  \\\n",
       "1                          0.6                       0.5        9.7   \n",
       "2                         27.1                      28.0        5.0   \n",
       "3                          5.7                       5.5        7.9   \n",
       "4                          1.2                       1.1       12.8   \n",
       "\n",
       "   Economy_status_Developed  Economy_status_Developing  Life_expectancy  \n",
       "0                         0                          1             76.5  \n",
       "1                         1                          0             82.8  \n",
       "2                         0                          1             65.4  \n",
       "3                         0                          1             67.0  \n",
       "4                         1                          0             81.7  \n",
       "\n",
       "[5 rows x 21 columns]"
      ]
     },
     "execution_count": 28,
     "metadata": {},
     "output_type": "execute_result"
    }
   ],
   "source": [
    "life.head()"
   ]
  },
  {
   "cell_type": "code",
   "execution_count": 29,
   "id": "839e151d-bad2-4a3b-a9be-e5d6b45f0bd0",
   "metadata": {
    "tags": []
   },
   "outputs": [],
   "source": [
    "features=[\"Infant_deaths\", \"Under_five_deaths\", \"Adult_mortality\" ,\"Alcohol_consumption\" , \"Population_mln\", \"Life_expectancy\"]"
   ]
  },
  {
   "cell_type": "code",
   "execution_count": 30,
   "id": "e92714ff-5611-4c16-a194-ecba065e73c8",
   "metadata": {
    "tags": []
   },
   "outputs": [],
   "source": [
    "life = life.dropna(subset=features)"
   ]
  },
  {
   "cell_type": "code",
   "execution_count": 31,
   "id": "715fc358-18c9-4ad5-a8fe-a1c5849b5232",
   "metadata": {
    "tags": []
   },
   "outputs": [],
   "source": [
    "data = life[features].copy()"
   ]
  },
  {
   "cell_type": "code",
   "execution_count": 32,
   "id": "475ade7d-8d19-4586-b2d9-5b8e6e243930",
   "metadata": {
    "tags": []
   },
   "outputs": [
    {
     "data": {
      "text/html": [
       "<div>\n",
       "<style scoped>\n",
       "    .dataframe tbody tr th:only-of-type {\n",
       "        vertical-align: middle;\n",
       "    }\n",
       "\n",
       "    .dataframe tbody tr th {\n",
       "        vertical-align: top;\n",
       "    }\n",
       "\n",
       "    .dataframe thead th {\n",
       "        text-align: right;\n",
       "    }\n",
       "</style>\n",
       "<table border=\"1\" class=\"dataframe\">\n",
       "  <thead>\n",
       "    <tr style=\"text-align: right;\">\n",
       "      <th></th>\n",
       "      <th>Infant_deaths</th>\n",
       "      <th>Under_five_deaths</th>\n",
       "      <th>Adult_mortality</th>\n",
       "      <th>Alcohol_consumption</th>\n",
       "      <th>Population_mln</th>\n",
       "      <th>Life_expectancy</th>\n",
       "    </tr>\n",
       "  </thead>\n",
       "  <tbody>\n",
       "    <tr>\n",
       "      <th>0</th>\n",
       "      <td>11.1</td>\n",
       "      <td>13.0</td>\n",
       "      <td>105.8240</td>\n",
       "      <td>1.320</td>\n",
       "      <td>78.53</td>\n",
       "      <td>76.5</td>\n",
       "    </tr>\n",
       "    <tr>\n",
       "      <th>1</th>\n",
       "      <td>2.7</td>\n",
       "      <td>3.3</td>\n",
       "      <td>57.9025</td>\n",
       "      <td>10.350</td>\n",
       "      <td>46.44</td>\n",
       "      <td>82.8</td>\n",
       "    </tr>\n",
       "    <tr>\n",
       "      <th>2</th>\n",
       "      <td>51.5</td>\n",
       "      <td>67.9</td>\n",
       "      <td>201.0765</td>\n",
       "      <td>1.570</td>\n",
       "      <td>1183.21</td>\n",
       "      <td>65.4</td>\n",
       "    </tr>\n",
       "    <tr>\n",
       "      <th>3</th>\n",
       "      <td>32.8</td>\n",
       "      <td>40.5</td>\n",
       "      <td>222.1965</td>\n",
       "      <td>5.680</td>\n",
       "      <td>0.75</td>\n",
       "      <td>67.0</td>\n",
       "    </tr>\n",
       "    <tr>\n",
       "      <th>4</th>\n",
       "      <td>3.4</td>\n",
       "      <td>4.3</td>\n",
       "      <td>57.9510</td>\n",
       "      <td>2.890</td>\n",
       "      <td>7.91</td>\n",
       "      <td>81.7</td>\n",
       "    </tr>\n",
       "    <tr>\n",
       "      <th>...</th>\n",
       "      <td>...</td>\n",
       "      <td>...</td>\n",
       "      <td>...</td>\n",
       "      <td>...</td>\n",
       "      <td>...</td>\n",
       "      <td>...</td>\n",
       "    </tr>\n",
       "    <tr>\n",
       "      <th>2859</th>\n",
       "      <td>97.0</td>\n",
       "      <td>224.9</td>\n",
       "      <td>291.8240</td>\n",
       "      <td>0.092</td>\n",
       "      <td>11.33</td>\n",
       "      <td>49.9</td>\n",
       "    </tr>\n",
       "    <tr>\n",
       "      <th>2860</th>\n",
       "      <td>23.9</td>\n",
       "      <td>28.6</td>\n",
       "      <td>235.2330</td>\n",
       "      <td>6.560</td>\n",
       "      <td>2.67</td>\n",
       "      <td>66.9</td>\n",
       "    </tr>\n",
       "    <tr>\n",
       "      <th>2861</th>\n",
       "      <td>17.7</td>\n",
       "      <td>28.9</td>\n",
       "      <td>134.8950</td>\n",
       "      <td>1.560</td>\n",
       "      <td>19.39</td>\n",
       "      <td>74.3</td>\n",
       "    </tr>\n",
       "    <tr>\n",
       "      <th>2862</th>\n",
       "      <td>7.9</td>\n",
       "      <td>9.9</td>\n",
       "      <td>204.0120</td>\n",
       "      <td>11.000</td>\n",
       "      <td>3.44</td>\n",
       "      <td>71.8</td>\n",
       "    </tr>\n",
       "    <tr>\n",
       "      <th>2863</th>\n",
       "      <td>2.1</td>\n",
       "      <td>2.6</td>\n",
       "      <td>50.5745</td>\n",
       "      <td>6.840</td>\n",
       "      <td>0.32</td>\n",
       "      <td>82.4</td>\n",
       "    </tr>\n",
       "  </tbody>\n",
       "</table>\n",
       "<p>2864 rows × 6 columns</p>\n",
       "</div>"
      ],
      "text/plain": [
       "      Infant_deaths  Under_five_deaths  Adult_mortality  Alcohol_consumption   \n",
       "0              11.1               13.0         105.8240                1.320  \\\n",
       "1               2.7                3.3          57.9025               10.350   \n",
       "2              51.5               67.9         201.0765                1.570   \n",
       "3              32.8               40.5         222.1965                5.680   \n",
       "4               3.4                4.3          57.9510                2.890   \n",
       "...             ...                ...              ...                  ...   \n",
       "2859           97.0              224.9         291.8240                0.092   \n",
       "2860           23.9               28.6         235.2330                6.560   \n",
       "2861           17.7               28.9         134.8950                1.560   \n",
       "2862            7.9                9.9         204.0120               11.000   \n",
       "2863            2.1                2.6          50.5745                6.840   \n",
       "\n",
       "      Population_mln  Life_expectancy  \n",
       "0              78.53             76.5  \n",
       "1              46.44             82.8  \n",
       "2            1183.21             65.4  \n",
       "3               0.75             67.0  \n",
       "4               7.91             81.7  \n",
       "...              ...              ...  \n",
       "2859           11.33             49.9  \n",
       "2860            2.67             66.9  \n",
       "2861           19.39             74.3  \n",
       "2862            3.44             71.8  \n",
       "2863            0.32             82.4  \n",
       "\n",
       "[2864 rows x 6 columns]"
      ]
     },
     "execution_count": 32,
     "metadata": {},
     "output_type": "execute_result"
    }
   ],
   "source": [
    "data"
   ]
  },
  {
   "cell_type": "code",
   "execution_count": 33,
   "id": "43654106-254d-44cd-a585-8f4ac9dbbb01",
   "metadata": {
    "tags": []
   },
   "outputs": [],
   "source": [
    "data = ((data - data.min()) / (data.max() - data.min())) * 9 + 1"
   ]
  },
  {
   "cell_type": "code",
   "execution_count": 34,
   "id": "82eddb71-aa0f-427e-82ab-eb7e58c4de80",
   "metadata": {
    "tags": []
   },
   "outputs": [
    {
     "data": {
      "text/html": [
       "<div>\n",
       "<style scoped>\n",
       "    .dataframe tbody tr th:only-of-type {\n",
       "        vertical-align: middle;\n",
       "    }\n",
       "\n",
       "    .dataframe tbody tr th {\n",
       "        vertical-align: top;\n",
       "    }\n",
       "\n",
       "    .dataframe thead th {\n",
       "        text-align: right;\n",
       "    }\n",
       "</style>\n",
       "<table border=\"1\" class=\"dataframe\">\n",
       "  <thead>\n",
       "    <tr style=\"text-align: right;\">\n",
       "      <th></th>\n",
       "      <th>Infant_deaths</th>\n",
       "      <th>Under_five_deaths</th>\n",
       "      <th>Adult_mortality</th>\n",
       "      <th>Alcohol_consumption</th>\n",
       "      <th>Population_mln</th>\n",
       "      <th>Life_expectancy</th>\n",
       "    </tr>\n",
       "  </thead>\n",
       "  <tbody>\n",
       "    <tr>\n",
       "      <th>count</th>\n",
       "      <td>2864.000000</td>\n",
       "      <td>2864.000000</td>\n",
       "      <td>2864.000000</td>\n",
       "      <td>2864.000000</td>\n",
       "      <td>2864.000000</td>\n",
       "      <td>2864.000000</td>\n",
       "    </tr>\n",
       "    <tr>\n",
       "      <th>mean</th>\n",
       "      <td>2.886090</td>\n",
       "      <td>2.643057</td>\n",
       "      <td>2.919187</td>\n",
       "      <td>3.427976</td>\n",
       "      <td>1.238707</td>\n",
       "      <td>6.970826</td>\n",
       "    </tr>\n",
       "    <tr>\n",
       "      <th>std</th>\n",
       "      <td>1.818364</td>\n",
       "      <td>1.802020</td>\n",
       "      <td>1.543625</td>\n",
       "      <td>2.005458</td>\n",
       "      <td>0.890267</td>\n",
       "      <td>1.906542</td>\n",
       "    </tr>\n",
       "    <tr>\n",
       "      <th>min</th>\n",
       "      <td>1.000000</td>\n",
       "      <td>1.000000</td>\n",
       "      <td>1.000000</td>\n",
       "      <td>1.000000</td>\n",
       "      <td>1.000000</td>\n",
       "      <td>1.000000</td>\n",
       "    </tr>\n",
       "    <tr>\n",
       "      <th>25%</th>\n",
       "      <td>1.415994</td>\n",
       "      <td>1.298181</td>\n",
       "      <td>1.772768</td>\n",
       "      <td>1.604365</td>\n",
       "      <td>1.013160</td>\n",
       "      <td>5.722973</td>\n",
       "    </tr>\n",
       "    <tr>\n",
       "      <th>50%</th>\n",
       "      <td>2.175348</td>\n",
       "      <td>1.840970</td>\n",
       "      <td>2.537543</td>\n",
       "      <td>3.024622</td>\n",
       "      <td>1.050682</td>\n",
       "      <td>7.486486</td>\n",
       "    </tr>\n",
       "    <tr>\n",
       "      <th>75%</th>\n",
       "      <td>4.007704</td>\n",
       "      <td>3.575472</td>\n",
       "      <td>3.651834</td>\n",
       "      <td>4.917040</td>\n",
       "      <td>1.153987</td>\n",
       "      <td>8.297297</td>\n",
       "    </tr>\n",
       "    <tr>\n",
       "      <th>max</th>\n",
       "      <td>10.000000</td>\n",
       "      <td>10.000000</td>\n",
       "      <td>10.000000</td>\n",
       "      <td>10.000000</td>\n",
       "      <td>10.000000</td>\n",
       "      <td>10.000000</td>\n",
       "    </tr>\n",
       "  </tbody>\n",
       "</table>\n",
       "</div>"
      ],
      "text/plain": [
       "       Infant_deaths  Under_five_deaths  Adult_mortality  Alcohol_consumption   \n",
       "count    2864.000000        2864.000000      2864.000000          2864.000000  \\\n",
       "mean        2.886090           2.643057         2.919187             3.427976   \n",
       "std         1.818364           1.802020         1.543625             2.005458   \n",
       "min         1.000000           1.000000         1.000000             1.000000   \n",
       "25%         1.415994           1.298181         1.772768             1.604365   \n",
       "50%         2.175348           1.840970         2.537543             3.024622   \n",
       "75%         4.007704           3.575472         3.651834             4.917040   \n",
       "max        10.000000          10.000000        10.000000            10.000000   \n",
       "\n",
       "       Population_mln  Life_expectancy  \n",
       "count     2864.000000      2864.000000  \n",
       "mean         1.238707         6.970826  \n",
       "std          0.890267         1.906542  \n",
       "min          1.000000         1.000000  \n",
       "25%          1.013160         5.722973  \n",
       "50%          1.050682         7.486486  \n",
       "75%          1.153987         8.297297  \n",
       "max         10.000000        10.000000  "
      ]
     },
     "execution_count": 34,
     "metadata": {},
     "output_type": "execute_result"
    }
   ],
   "source": [
    "data.describe()"
   ]
  },
  {
   "cell_type": "code",
   "execution_count": 35,
   "id": "e3116869-7424-49af-aa46-f07c44049f4a",
   "metadata": {
    "tags": []
   },
   "outputs": [
    {
     "data": {
      "text/html": [
       "<div>\n",
       "<style scoped>\n",
       "    .dataframe tbody tr th:only-of-type {\n",
       "        vertical-align: middle;\n",
       "    }\n",
       "\n",
       "    .dataframe tbody tr th {\n",
       "        vertical-align: top;\n",
       "    }\n",
       "\n",
       "    .dataframe thead th {\n",
       "        text-align: right;\n",
       "    }\n",
       "</style>\n",
       "<table border=\"1\" class=\"dataframe\">\n",
       "  <thead>\n",
       "    <tr style=\"text-align: right;\">\n",
       "      <th></th>\n",
       "      <th>Infant_deaths</th>\n",
       "      <th>Under_five_deaths</th>\n",
       "      <th>Adult_mortality</th>\n",
       "      <th>Alcohol_consumption</th>\n",
       "      <th>Population_mln</th>\n",
       "      <th>Life_expectancy</th>\n",
       "    </tr>\n",
       "  </thead>\n",
       "  <tbody>\n",
       "    <tr>\n",
       "      <th>0</th>\n",
       "      <td>1.614087</td>\n",
       "      <td>1.432615</td>\n",
       "      <td>1.758176</td>\n",
       "      <td>1.664801</td>\n",
       "      <td>1.511712</td>\n",
       "      <td>8.520270</td>\n",
       "    </tr>\n",
       "    <tr>\n",
       "      <th>1</th>\n",
       "      <td>1.059428</td>\n",
       "      <td>1.040431</td>\n",
       "      <td>1.114432</td>\n",
       "      <td>6.212647</td>\n",
       "      <td>1.302396</td>\n",
       "      <td>9.797297</td>\n",
       "    </tr>\n",
       "    <tr>\n",
       "      <th>2</th>\n",
       "      <td>4.281731</td>\n",
       "      <td>3.652291</td>\n",
       "      <td>3.037732</td>\n",
       "      <td>1.790711</td>\n",
       "      <td>8.717296</td>\n",
       "      <td>6.270270</td>\n",
       "    </tr>\n",
       "    <tr>\n",
       "      <th>3</th>\n",
       "      <td>3.046955</td>\n",
       "      <td>2.544474</td>\n",
       "      <td>3.321443</td>\n",
       "      <td>3.860660</td>\n",
       "      <td>1.004370</td>\n",
       "      <td>6.594595</td>\n",
       "    </tr>\n",
       "    <tr>\n",
       "      <th>4</th>\n",
       "      <td>1.105649</td>\n",
       "      <td>1.080863</td>\n",
       "      <td>1.115083</td>\n",
       "      <td>2.455512</td>\n",
       "      <td>1.051073</td>\n",
       "      <td>9.574324</td>\n",
       "    </tr>\n",
       "  </tbody>\n",
       "</table>\n",
       "</div>"
      ],
      "text/plain": [
       "   Infant_deaths  Under_five_deaths  Adult_mortality  Alcohol_consumption   \n",
       "0       1.614087           1.432615         1.758176             1.664801  \\\n",
       "1       1.059428           1.040431         1.114432             6.212647   \n",
       "2       4.281731           3.652291         3.037732             1.790711   \n",
       "3       3.046955           2.544474         3.321443             3.860660   \n",
       "4       1.105649           1.080863         1.115083             2.455512   \n",
       "\n",
       "   Population_mln  Life_expectancy  \n",
       "0        1.511712         8.520270  \n",
       "1        1.302396         9.797297  \n",
       "2        8.717296         6.270270  \n",
       "3        1.004370         6.594595  \n",
       "4        1.051073         9.574324  "
      ]
     },
     "execution_count": 35,
     "metadata": {},
     "output_type": "execute_result"
    }
   ],
   "source": [
    "data.head()"
   ]
  },
  {
   "cell_type": "code",
   "execution_count": 36,
   "id": "0dc12fcd-ff7c-4cf6-a89d-a175225b1251",
   "metadata": {
    "tags": []
   },
   "outputs": [],
   "source": [
    "def random_centroids(data, k):\n",
    "    centroids = []\n",
    "    for i in range(k):\n",
    "        centroid = data.apply(lambda x: float(x.sample()))\n",
    "        centroids.append(centroid)\n",
    "    return pd.concat(centroids, axis=1)"
   ]
  },
  {
   "cell_type": "code",
   "execution_count": 37,
   "id": "7a1a77a8-fbfd-488c-8ed5-e26715891c6e",
   "metadata": {
    "tags": []
   },
   "outputs": [
    {
     "name": "stderr",
     "output_type": "stream",
     "text": [
      "C:\\Users\\HP\\AppData\\Local\\Temp\\ipykernel_12152\\1845334667.py:4: FutureWarning: Calling float on a single element Series is deprecated and will raise a TypeError in the future. Use float(ser.iloc[0]) instead\n",
      "  centroid = data.apply(lambda x: float(x.sample()))\n"
     ]
    }
   ],
   "source": [
    "centroids = random_centroids(data, 6)"
   ]
  },
  {
   "cell_type": "code",
   "execution_count": 38,
   "id": "cf44debf-b4c4-454b-b33a-e161216d478d",
   "metadata": {
    "tags": []
   },
   "outputs": [
    {
     "data": {
      "text/html": [
       "<div>\n",
       "<style scoped>\n",
       "    .dataframe tbody tr th:only-of-type {\n",
       "        vertical-align: middle;\n",
       "    }\n",
       "\n",
       "    .dataframe tbody tr th {\n",
       "        vertical-align: top;\n",
       "    }\n",
       "\n",
       "    .dataframe thead th {\n",
       "        text-align: right;\n",
       "    }\n",
       "</style>\n",
       "<table border=\"1\" class=\"dataframe\">\n",
       "  <thead>\n",
       "    <tr style=\"text-align: right;\">\n",
       "      <th></th>\n",
       "      <th>0</th>\n",
       "      <th>1</th>\n",
       "      <th>2</th>\n",
       "      <th>3</th>\n",
       "      <th>4</th>\n",
       "      <th>5</th>\n",
       "    </tr>\n",
       "  </thead>\n",
       "  <tbody>\n",
       "    <tr>\n",
       "      <th>Infant_deaths</th>\n",
       "      <td>1.112252</td>\n",
       "      <td>2.756420</td>\n",
       "      <td>1.911225</td>\n",
       "      <td>4.182685</td>\n",
       "      <td>1.581071</td>\n",
       "      <td>4.829787</td>\n",
       "    </tr>\n",
       "    <tr>\n",
       "      <th>Under_five_deaths</th>\n",
       "      <td>1.315364</td>\n",
       "      <td>1.056604</td>\n",
       "      <td>4.048518</td>\n",
       "      <td>1.088949</td>\n",
       "      <td>1.044474</td>\n",
       "      <td>3.583558</td>\n",
       "    </tr>\n",
       "    <tr>\n",
       "      <th>Adult_mortality</th>\n",
       "      <td>4.063647</td>\n",
       "      <td>1.355922</td>\n",
       "      <td>1.247300</td>\n",
       "      <td>3.341956</td>\n",
       "      <td>4.342925</td>\n",
       "      <td>3.502780</td>\n",
       "    </tr>\n",
       "    <tr>\n",
       "      <th>Alcohol_consumption</th>\n",
       "      <td>3.754896</td>\n",
       "      <td>7.295467</td>\n",
       "      <td>2.510912</td>\n",
       "      <td>1.589256</td>\n",
       "      <td>1.956911</td>\n",
       "      <td>6.927812</td>\n",
       "    </tr>\n",
       "    <tr>\n",
       "      <th>Population_mln</th>\n",
       "      <td>1.001370</td>\n",
       "      <td>1.042855</td>\n",
       "      <td>1.077621</td>\n",
       "      <td>1.034766</td>\n",
       "      <td>1.012719</td>\n",
       "      <td>1.069989</td>\n",
       "    </tr>\n",
       "    <tr>\n",
       "      <th>Life_expectancy</th>\n",
       "      <td>6.148649</td>\n",
       "      <td>5.804054</td>\n",
       "      <td>7.912162</td>\n",
       "      <td>7.810811</td>\n",
       "      <td>7.831081</td>\n",
       "      <td>7.425676</td>\n",
       "    </tr>\n",
       "  </tbody>\n",
       "</table>\n",
       "</div>"
      ],
      "text/plain": [
       "                            0         1         2         3         4   \n",
       "Infant_deaths        1.112252  2.756420  1.911225  4.182685  1.581071  \\\n",
       "Under_five_deaths    1.315364  1.056604  4.048518  1.088949  1.044474   \n",
       "Adult_mortality      4.063647  1.355922  1.247300  3.341956  4.342925   \n",
       "Alcohol_consumption  3.754896  7.295467  2.510912  1.589256  1.956911   \n",
       "Population_mln       1.001370  1.042855  1.077621  1.034766  1.012719   \n",
       "Life_expectancy      6.148649  5.804054  7.912162  7.810811  7.831081   \n",
       "\n",
       "                            5  \n",
       "Infant_deaths        4.829787  \n",
       "Under_five_deaths    3.583558  \n",
       "Adult_mortality      3.502780  \n",
       "Alcohol_consumption  6.927812  \n",
       "Population_mln       1.069989  \n",
       "Life_expectancy      7.425676  "
      ]
     },
     "execution_count": 38,
     "metadata": {},
     "output_type": "execute_result"
    }
   ],
   "source": [
    "centroids"
   ]
  },
  {
   "cell_type": "code",
   "execution_count": 39,
   "id": "e5c6f39f-cf87-4403-a25c-4cbed1857272",
   "metadata": {
    "tags": []
   },
   "outputs": [],
   "source": [
    "def get_labels(data, centroids):\n",
    "    distances = centroids.apply(lambda x: np.sqrt(((data - x) ** 2).sum(axis=1)))\n",
    "    return distances.idxmin(axis=1)"
   ]
  },
  {
   "cell_type": "code",
   "execution_count": 40,
   "id": "b45b9a8e-a6c3-4e59-9df0-2ecebee48cd8",
   "metadata": {
    "tags": []
   },
   "outputs": [],
   "source": [
    "labels = get_labels(data, centroids)"
   ]
  },
  {
   "cell_type": "code",
   "execution_count": 41,
   "id": "292e8308-d77c-4bc3-b18b-b5969719823d",
   "metadata": {
    "tags": []
   },
   "outputs": [
    {
     "data": {
      "text/plain": [
       "3    755\n",
       "1    504\n",
       "0    497\n",
       "2    479\n",
       "4    334\n",
       "5    295\n",
       "Name: count, dtype: int64"
      ]
     },
     "execution_count": 41,
     "metadata": {},
     "output_type": "execute_result"
    }
   ],
   "source": [
    "labels.value_counts()"
   ]
  },
  {
   "cell_type": "code",
   "execution_count": 42,
   "id": "979942a4-926e-47e6-a523-28135ebc81fe",
   "metadata": {
    "tags": []
   },
   "outputs": [],
   "source": [
    "def new_centroids(data, labels, k):\n",
    "    centroids = data.groupby(labels).apply(lambda x: np.exp(np.log(x).mean())).T\n",
    "    return centroids"
   ]
  },
  {
   "cell_type": "code",
   "execution_count": 43,
   "id": "23c298e6-07b8-464e-9586-15d2130248be",
   "metadata": {
    "tags": []
   },
   "outputs": [],
   "source": [
    "from sklearn.decomposition import PCA\n",
    "import matplotlib.pyplot as plt\n",
    "from IPython.display import clear_output"
   ]
  },
  {
   "cell_type": "code",
   "execution_count": 44,
   "id": "9ea79d6b-4d6d-42c5-808b-780d54e28451",
   "metadata": {
    "tags": []
   },
   "outputs": [],
   "source": [
    "def plot_clusters(data, labels, centroids, iteration):\n",
    "    pca = PCA(n_components=2)\n",
    "    data_2d = pca.fit_transform(data)\n",
    "    centroids_2d = pca.transform(centroids.T)\n",
    "    clear_output(wait=True)\n",
    "    plt.title(f'Iteration {iteration}')\n",
    "    plt.scatter(x=data_2d[:,0], y=data_2d[:,1], c=labels)\n",
    "    plt.scatter(x=centroids_2d[:,0], y=centroids_2d[:,1])\n",
    "    plt.show()"
   ]
  },
  {
   "cell_type": "code",
   "execution_count": 48,
   "id": "f4098209-01c4-4ac6-9dfb-ee8c3e7c51db",
   "metadata": {
    "tags": []
   },
   "outputs": [
    {
     "data": {
      "image/png": "[encoded data removed]",
      "text/plain": [
       "<Figure size 640x480 with 1 Axes>"
      ]
     },
     "metadata": {},
     "output_type": "display_data"
    }
   ],
   "source": [
    "max_iterations = 100\n",
    "k = 6\n",
    "\n",
    "centroids = random_centroids(data, k)\n",
    "old_centroids = pd.DataFrame()\n",
    "iteration = 1\n",
    "\n",
    "while iteration < max_iterations and not centroids.equals(old_centroids):\n",
    "    old_centroids = centroids\n",
    "    \n",
    "    labels = get_labels(data, centroids)\n",
    "    centroids = new_centroids(data, labels, k)\n",
    "    plot_clusters(data, labels, centroids, iteration)\n",
    "    iteration += 1"
   ]
  },
  {
   "cell_type": "code",
   "execution_count": 49,
   "id": "a0f6f6fc-f8ec-4579-87a4-fb6731f3a339",
   "metadata": {
    "tags": []
   },
   "outputs": [],
   "source": [
    "import matplotlib.pyplot as plt\n",
    "from sklearn.cluster import KMeans\n",
    "from scipy.cluster.hierarchy import dendrogram, linkage"
   ]
  },
  {
   "cell_type": "code",
   "execution_count": 63,
   "id": "c8bf4396-105b-436f-bf7c-0082fe1dcaaf",
   "metadata": {
    "tags": []
   },
   "outputs": [
    {
     "data": {
      "image/png": "[encoded data removed]",
      "text/plain": [
       "<Figure size 1000x1000 with 1 Axes>"
      ]
     },
     "metadata": {},
     "output_type": "display_data"
    }
   ],
   "source": [
    "Z = linkage(centroids, 'ward')\n",
    "fig = plt.figure(figsize=(10,10))\n",
    "dn = dendrogram(Z)\n",
    "plt.title('Dendrogram')\n",
    "plt.xlabel('Data points')\n",
    "plt.ylabel('Distance')\n",
    "plt.show()\n"
   ]
  },
  {
   "cell_type": "code",
   "execution_count": null,
   "id": "14886c92-ac91-4b00-9c6b-652012b321bc",
   "metadata": {},
   "outputs": [],
   "source": []
  }
 ],
 "metadata": {
  "kernelspec": {
   "display_name": "Python 3 (ipykernel)",
   "language": "python",
   "name": "python3"
  },
  "language_info": {
   "codemirror_mode": {
    "name": "ipython",
    "version": 3
   },
   "file_extension": ".py",
   "mimetype": "text/x-python",
   "name": "python",
   "nbconvert_exporter": "python",
   "pygments_lexer": "ipython3",
   "version": "3.11.3"
  }
 },
 "nbformat": 4,
 "nbformat_minor": 5
}
